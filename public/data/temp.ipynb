{
 "cells": [
  {
   "cell_type": "code",
   "execution_count": 1,
   "id": "03fa5974",
   "metadata": {},
   "outputs": [],
   "source": [
    "import pandas as pd\n",
    "import numpy as np"
   ]
  },
  {
   "cell_type": "code",
   "execution_count": 2,
   "id": "41e4167f",
   "metadata": {},
   "outputs": [],
   "source": [
    "sports_df = pd.read_json('./sports.json', orient=\"index\")\n",
    "venues_df = pd.read_json('./venues.json', orient=\"index\")\n"
   ]
  },
  {
   "cell_type": "code",
   "execution_count": 6,
   "id": "663d7208",
   "metadata": {},
   "outputs": [],
   "source": [
    "venues_df[\"img\"] = venues_df.index.map(lambda s: f\"/img/venues/{s}.jpg\")"
   ]
  },
  {
   "cell_type": "code",
   "execution_count": 8,
   "id": "7022c0ce",
   "metadata": {},
   "outputs": [],
   "source": [
    "venues_df.to_json('./venues.json', orient=\"index\")"
   ]
  },
  {
   "cell_type": "code",
   "execution_count": 22,
   "id": "f2ce804f",
   "metadata": {},
   "outputs": [],
   "source": [
    "a = [\n",
    "    'aquatics-centre',\n",
    "    'bercy-arena',\n",
    "    'champ-de-mars-arena',\n",
    "    'chateau-de-versailles',\n",
    "    'chateauroux-shooting-centre',\n",
    "    'eiffel-tower-stadium',\n",
    "    'elancourt-hill',\n",
    "    'grand-palais',\n",
    "    'hotel-de-ville',\n",
    "    'invalides',\n",
    "    'la-concorde',\n",
    "    'le-bourget-climbing-venue',\n",
    "    'le-golf-national',\n",
    "    'north-paris-arena',\n",
    "    'parc-des-princes',\n",
    "    'paris-la-defense-arena',\n",
    "    'pierre-mauroy-stadium',\n",
    "    'pont-alexandre-iii',\n",
    "    'porte-de-la-chapelle-arena',\n",
    "    'roland-garros-stadium',\n",
    "    'saint-quentin-en-yvelines-bmx-stadium',\n",
    "    'saint-quentin-en-yvelines-velodrome',\n",
    "    'south-paris-arena',\n",
    "    'stade-de-france',\n",
    "    'trocadero',\n",
    "    'vaires-sur-marne-nautical-stadium',\n",
    "    'teahupo-o-tahiti',\n",
    "    'yves-du-manoir-stadium',\n",
    "]"
   ]
  },
  {
   "cell_type": "code",
   "execution_count": null,
   "id": "76b048dc",
   "metadata": {},
   "outputs": [],
   "source": []
  }
 ],
 "metadata": {
  "kernelspec": {
   "display_name": "base",
   "language": "python",
   "name": "python3"
  },
  "language_info": {
   "codemirror_mode": {
    "name": "ipython",
    "version": 3
   },
   "file_extension": ".py",
   "mimetype": "text/x-python",
   "name": "python",
   "nbconvert_exporter": "python",
   "pygments_lexer": "ipython3",
   "version": "3.12.2"
  }
 },
 "nbformat": 4,
 "nbformat_minor": 5
}
