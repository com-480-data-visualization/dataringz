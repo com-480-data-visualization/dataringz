{
 "cells": [
  {
   "cell_type": "code",
   "execution_count": 20,
   "id": "514b9af7",
   "metadata": {},
   "outputs": [
    {
     "name": "stdout",
     "output_type": "stream",
     "text": [
      "Total number of Wrestling athletes: 2018\n",
      "Number of male Wrestling athletes: 1036\n",
      "Number of female Wrestling athletes: 982\n",
      "Number of Wrestling athletes with unspecified gender: 0\n"
     ]
    }
   ],
   "source": [
    "import pandas as pd\n",
    "import ast\n",
    "import json\n",
    "\n",
    "# Read the CSV file\n",
    "df = pd.read_csv('../eda/athletes.csv')\n",
    "\n",
    "# Function to safely convert the disciplines to a list\n",
    "def convert_to_list(x):\n",
    "    if isinstance(x, list):\n",
    "        return x\n",
    "    try:\n",
    "        # Try parsing as JSON\n",
    "        return json.loads(x.replace(\"'\", '\"'))\n",
    "    except:\n",
    "        try:\n",
    "            # Try with ast.literal_eval\n",
    "            return ast.literal_eval(x)\n",
    "        except:\n",
    "            # If all else fails, return as a single-item list\n",
    "            return [x]\n",
    "\n",
    "# Apply the conversion to the disciplines column\n",
    "df['disciplines'] = df['disciplines'].apply(convert_to_list)\n",
    "\n",
    "# Create a mask for Wrestling athletes\n",
    "wrestling_mask = df['disciplines'].apply(lambda x: 'Athletics' in x)\n",
    "\n",
    "# Count total Wrestling athletes\n",
    "wrestling_count = wrestling_mask.sum()\n",
    "\n",
    "# Count Wrestling athletes by gender\n",
    "wrestling_men_count = df[wrestling_mask & (df['gender'] == 'Male')].shape[0]\n",
    "wrestling_women_count = df[wrestling_mask & (df['gender'] == 'Female')].shape[0]\n",
    "wrestling_unspecified_count = df[wrestling_mask & (~df['gender'].isin(['Male', 'Female']))].shape[0]\n",
    "\n",
    "# Print the results\n",
    "print(f\"Total number of Wrestling athletes: {wrestling_count}\")\n",
    "print(f\"Number of male Wrestling athletes: {wrestling_men_count}\")\n",
    "print(f\"Number of female Wrestling athletes: {wrestling_women_count}\")\n",
    "print(f\"Number of Wrestling athletes with unspecified gender: {wrestling_unspecified_count}\")\n"
   ]
  },
  {
   "cell_type": "code",
   "execution_count": null,
   "id": "6f2a1840",
   "metadata": {},
   "outputs": [],
   "source": []
  },
  {
   "cell_type": "code",
   "execution_count": null,
   "id": "06fa2107",
   "metadata": {},
   "outputs": [],
   "source": []
  },
  {
   "cell_type": "code",
   "execution_count": null,
   "id": "a805d150",
   "metadata": {},
   "outputs": [],
   "source": []
  },
  {
   "cell_type": "code",
   "execution_count": null,
   "id": "a5fbd66b",
   "metadata": {},
   "outputs": [],
   "source": []
  },
  {
   "cell_type": "code",
   "execution_count": null,
   "id": "66cf8935",
   "metadata": {},
   "outputs": [],
   "source": [
    "# If discipline is stored as a string representation of a list, we need to convert it first\n",
    "# Try to evaluate if it's stored as a string representation of a list\n",
    "try:\n",
    "    # First row as a test to see if conversion is needed\n",
    "    if isinstance(df['disciplines'].iloc[0], str) and ('[' in df['disciplines'].iloc[0] or \"'\" in df['disciplines'].iloc[0]):\n",
    "        df['disciplines'] = df['disciplines'].apply(eval)\n",
    "except:\n",
    "    pass  # Already in the correct format\n",
    "\n",
    "# Count athletes who have 'Wrestling' in their disciplines\n",
    "wrestling_athletes_count = df[df['disciplines'].apply(lambda x: 'Wrestling' in x if isinstance(x, list) else x == 'Wrestling')].shape[0]\n",
    "\n",
    "# Print the result\n",
    "print(f\"Number of Wrestling athletes: {wrestling_athletes_count}\")"
   ]
  },
  {
   "cell_type": "code",
   "execution_count": null,
   "id": "1a474124",
   "metadata": {},
   "outputs": [],
   "source": []
  },
  {
   "cell_type": "code",
   "execution_count": null,
   "id": "36da559b",
   "metadata": {},
   "outputs": [],
   "source": []
  },
  {
   "cell_type": "code",
   "execution_count": null,
   "id": "36590bd0",
   "metadata": {},
   "outputs": [],
   "source": []
  },
  {
   "cell_type": "code",
   "execution_count": null,
   "id": "e4f23440",
   "metadata": {},
   "outputs": [],
   "source": []
  }
 ],
 "metadata": {
  "kernelspec": {
   "display_name": "ada",
   "language": "python",
   "name": "python3"
  },
  "language_info": {
   "codemirror_mode": {
    "name": "ipython",
    "version": 3
   },
   "file_extension": ".py",
   "mimetype": "text/x-python",
   "name": "python",
   "nbconvert_exporter": "python",
   "pygments_lexer": "ipython3",
   "version": "3.11.11"
  }
 },
 "nbformat": 4,
 "nbformat_minor": 5
}
