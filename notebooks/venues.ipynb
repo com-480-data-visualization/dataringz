{
 "cells": [
  {
   "cell_type": "code",
   "execution_count": 2,
   "metadata": {},
   "outputs": [],
   "source": [
    "import pandas as pd\n",
    "import json\n",
    "import re\n",
    "from unidecode import unidecode\n",
    "from ast import literal_eval\n",
    "from pathlib import Path"
   ]
  },
  {
   "cell_type": "code",
   "execution_count": 3,
   "metadata": {},
   "outputs": [
    {
     "name": "stdout",
     "output_type": "stream",
     "text": [
      "Venues data shape: (35, 6)\n"
     ]
    },
    {
     "data": {
      "text/html": [
       "<div>\n",
       "<style scoped>\n",
       "    .dataframe tbody tr th:only-of-type {\n",
       "        vertical-align: middle;\n",
       "    }\n",
       "\n",
       "    .dataframe tbody tr th {\n",
       "        vertical-align: top;\n",
       "    }\n",
       "\n",
       "    .dataframe thead th {\n",
       "        text-align: right;\n",
       "    }\n",
       "</style>\n",
       "<table border=\"1\" class=\"dataframe\">\n",
       "  <thead>\n",
       "    <tr style=\"text-align: right;\">\n",
       "      <th></th>\n",
       "      <th>venue</th>\n",
       "      <th>sports</th>\n",
       "      <th>date_start</th>\n",
       "      <th>date_end</th>\n",
       "      <th>tag</th>\n",
       "      <th>url</th>\n",
       "    </tr>\n",
       "  </thead>\n",
       "  <tbody>\n",
       "    <tr>\n",
       "      <th>0</th>\n",
       "      <td>Aquatics Centre</td>\n",
       "      <td>['Artistic Swimming', 'Diving', 'Water Polo']</td>\n",
       "      <td>2024-07-27T09:00:00Z</td>\n",
       "      <td>2024-08-10T20:00:00Z</td>\n",
       "      <td>aquatics-centre</td>\n",
       "      <td>https://olympics.com/en/paris-2024/venues/aqua...</td>\n",
       "    </tr>\n",
       "    <tr>\n",
       "      <th>1</th>\n",
       "      <td>Bercy Arena</td>\n",
       "      <td>['Artistic Gymnastics', 'Basketball', 'Trampol...</td>\n",
       "      <td>2024-07-27T09:00:00Z</td>\n",
       "      <td>2024-08-11T16:00:00Z</td>\n",
       "      <td>bercy-arena</td>\n",
       "      <td>https://olympics.com/en/paris-2024/venues/berc...</td>\n",
       "    </tr>\n",
       "  </tbody>\n",
       "</table>\n",
       "</div>"
      ],
      "text/plain": [
       "             venue                                             sports  \\\n",
       "0  Aquatics Centre      ['Artistic Swimming', 'Diving', 'Water Polo']   \n",
       "1      Bercy Arena  ['Artistic Gymnastics', 'Basketball', 'Trampol...   \n",
       "\n",
       "             date_start              date_end              tag  \\\n",
       "0  2024-07-27T09:00:00Z  2024-08-10T20:00:00Z  aquatics-centre   \n",
       "1  2024-07-27T09:00:00Z  2024-08-11T16:00:00Z      bercy-arena   \n",
       "\n",
       "                                                 url  \n",
       "0  https://olympics.com/en/paris-2024/venues/aqua...  \n",
       "1  https://olympics.com/en/paris-2024/venues/berc...  "
      ]
     },
     "execution_count": 3,
     "metadata": {},
     "output_type": "execute_result"
    }
   ],
   "source": [
    "# Load venues data\n",
    "venues_df = pd.read_csv('../eda/data/venues.csv')\n",
    "\n",
    "# Display sample data\n",
    "print(f\"Venues data shape: {venues_df.shape}\")\n",
    "venues_df.head(2)"
   ]
  },
  {
   "cell_type": "code",
   "execution_count": 4,
   "metadata": {},
   "outputs": [],
   "source": [
    "# Function to safely convert string representation of lists to actual lists\n",
    "def safe_eval(value):\n",
    "    if pd.isna(value) or value == '':\n",
    "        return []\n",
    "    try:\n",
    "        if isinstance(value, str) and value.startswith('[') and value.endswith(']'):\n",
    "            return literal_eval(value)\n",
    "        return value\n",
    "    except (ValueError, SyntaxError):\n",
    "        return value\n",
    "\n",
    "# Function to generate slug\n",
    "def generate_slug(name):\n",
    "    if pd.isna(name) or name == '':\n",
    "        return ''\n",
    "    \n",
    "    # Convert to lowercase and replace spaces with hyphens\n",
    "    slug = name.lower().replace(' ', '-')\n",
    "    # Remove accents\n",
    "    slug = unidecode(slug)\n",
    "    # Remove any special characters\n",
    "    slug = re.sub(r'[^a-z0-9-]', '', slug)\n",
    "    return slug"
   ]
  },
  {
   "cell_type": "code",
   "execution_count": 5,
   "metadata": {},
   "outputs": [
    {
     "name": "stdout",
     "output_type": "stream",
     "text": [
      "Processed 35 venues\n"
     ]
    }
   ],
   "source": [
    "# Process venues data\n",
    "venues_json = {}\n",
    "\n",
    "for index, venue in venues_df.iterrows():\n",
    "    # Generate slug if not available\n",
    "    venue_slug = venue['tag'] if pd.notna(venue['tag']) else generate_slug(venue['venue'])\n",
    "    \n",
    "    # Convert sports list\n",
    "    sports_list = safe_eval(venue['sports'])\n",
    "    sports = []\n",
    "    \n",
    "    for sport in sports_list:\n",
    "        sport_slug = generate_slug(sport)\n",
    "        sports.append({\n",
    "            'slug': sport_slug,\n",
    "            'name': sport,\n",
    "            'icon': f\"/img/sports/SVG/{sport_slug}.svg\"\n",
    "        })\n",
    "    \n",
    "    # Create venue object\n",
    "    venue_data = {\n",
    "        'name': venue['venue'],\n",
    "        'slug': venue_slug,\n",
    "        'url': venue['url'] if pd.notna(venue['url']) else '',\n",
    "        'sports': sports,\n",
    "        'date_start': venue['date_start'] if pd.notna(venue['date_start']) else '',\n",
    "        'date_end': venue['date_end'] if pd.notna(venue['date_end']) else '',\n",
    "        'description': f\"Olympic venue hosting {', '.join([s['name'] for s in sports])}\",\n",
    "        'location': {\n",
    "            'latitude': None,  # Will be filled from GeoJSON\n",
    "            'longitude': None  # Will be filled from GeoJSON\n",
    "        }\n",
    "    }\n",
    "    \n",
    "    venues_json[venue_slug] = venue_data\n",
    "\n",
    "print(f\"Processed {len(venues_json)} venues\")"
   ]
  }
 ],
 "metadata": {
  "kernelspec": {
   "display_name": "dataringz",
   "language": "python",
   "name": "python3"
  },
  "language_info": {
   "codemirror_mode": {
    "name": "ipython",
    "version": 3
   },
   "file_extension": ".py",
   "mimetype": "text/x-python",
   "name": "python",
   "nbconvert_exporter": "python",
   "pygments_lexer": "ipython3",
   "version": "3.12.9"
  }
 },
 "nbformat": 4,
 "nbformat_minor": 2
}
